{
 "cells": [
  {
   "cell_type": "markdown",
   "metadata": {},
   "source": [
    "# matplotlib.colors\n",
    "\n",
    "matplotlib.colors模块用于将数字或颜色参数转换成RGB或RGBA。\n",
    "\n",
    "RGB和RGBA分别是3或4个浮点数的序列，取值范围[0,1].\n",
    "\n",
    "colormap指1维颜色数组。\n",
    "\n",
    "颜色映射通常有两步：首先使用Normalize或其子类的实例将数据数组归一化，即映射成[0,1]范围数组；然后使用Colormap子类的实例将[0,1]范围内数字映射成颜色，包括LinearSegmentedColormap和ListedColormap两类。\n",
    "\n",
    "is_color_like()：检查对象是否可以解释成颜色\n",
    "\n",
    "to_rgba()：转换一个对象维RGBA元组\n",
    "\n",
    "to_hex():转换对象为HTML风格的hex字符串#rrggbb格式\n",
    "\n",
    "to_rgba_array():颜色序列转为(n, 4)的RGBA数组。\n",
    "\n",
    "## 颜色参数格式\n",
    "\n",
    "* 内置颜色（单字母表示）\n",
    "\n",
    " * b: blue\n",
    " * g: green\n",
    " * r: red\n",
    " * ...\n",
    " \n",
    "* html hex string\n",
    " \n",
    "  例如： #eeefff\n",
    "  \n",
    "* RGB、RGBA\n",
    "\n",
    " （r, g, b）或 (r, g, b, a)元组，其中r,g,b,a取值范围为[0,1]\n",
    " \n",
    "* html颜色名称\n",
    "\n",
    " 例如'red','burlywood'等"
   ]
  },
  {
   "cell_type": "markdown",
   "metadata": {},
   "source": [
    "## Step 1: Normalize\n",
    "\n",
    "### class matplot.colors.Normalize(vmin=None, vmax=None, clip=False)\n",
    "\n",
    "用于归一化数据到[0.0, 1.0]区间的类。\n",
    "\n",
    "个人理解Normalize是一个归一化器，Normalize实例化返回一个对象实例，传递数据给这个实例进行归一化。如果vmin或vmax没指定，他们初始化于第一个处理输入的最小、最大值。clip参数为True时，给定值在范围外，返回值为0或1，看更接近谁。如果vmin == vmax，返回0。"
   ]
  },
  {
   "cell_type": "code",
   "execution_count": 4,
   "metadata": {
    "collapsed": false
   },
   "outputs": [
    {
     "name": "stdout",
     "output_type": "stream",
     "text": [
      "[ 0.    0.25  0.5   0.75  1.  ]\n",
      "[ 0.    0.25  0.5   0.75  1.  ]\n",
      "[-0.25  0.    0.25  0.5   0.75  1.    1.25]\n",
      "[ 0.    0.25  0.5   0.75  1.  ]\n",
      "[-0.25  0.    0.25  0.5   0.75  1.    1.25]\n"
     ]
    }
   ],
   "source": [
    "%matplotlib inline\n",
    "from matplotlib.colors import Normalize\n",
    "#指定vmin,vmax，那么vmin归一化就是 0，vmax归一化是1\n",
    "norm1 = Normalize(vmin=-10,vmax=10)\n",
    "print norm1([-10, -5, 0, 5, 10])\n",
    "\n",
    "#不指定vmin，vmax，根据第一组处理数据确定vmin和vmax\n",
    "norm2 = Normalize()\n",
    "# vmin=-2, vmax=2\n",
    "print norm2([-2, -1, 0, 1, 2])\n",
    "# as input data processed above, vmin=-2, vmax=2\n",
    "print norm2([-3, -2, -1, 0, 1, 2, 3])\n",
    "\n",
    "norm3 = Normalize(clip=True)\n",
    "print norm2([-2, -1, 0, 1, 2])\n",
    "print norm2([-3, -2, -1, 0, 1, 2, 3])"
   ]
  },
  {
   "cell_type": "markdown",
   "metadata": {},
   "source": [
    "### matplotlib.colors.LogNorm(vmin=None, vmax=None, clip=False)\n",
    "\n",
    "用于归一化数据到[0,1]范围，但以log对数尺度。"
   ]
  },
  {
   "cell_type": "code",
   "execution_count": 5,
   "metadata": {
    "collapsed": false
   },
   "outputs": [
    {
     "name": "stdout",
     "output_type": "stream",
     "text": [
      "[0.0 0.25 0.5 0.75 1.0]\n"
     ]
    }
   ],
   "source": [
    "from matplotlib.colors import LogNorm\n",
    "\n",
    "norm1 = LogNorm()\n",
    "print norm1([1, 2, 4, 8, 16])"
   ]
  },
  {
   "cell_type": "markdown",
   "metadata": {},
   "source": [
    "### class matplotlib.colors.BoundaryNorm(boundaries, ncolors, clip=False)\n",
    "\n",
    "基于离散区间产生colormap索引。\n",
    "\n",
    "不同于Normalize或LogNorm，BoundaryNorm映射值到整数，而不是[0,1]区间。\n",
    "\n",
    "映射到[0,1]区间可以通过分段线性插值完成，但使用整数更简单。\n",
    "\n",
    " * boundaries 单调递增序列\n",
    " * ncolors colormap使用的颜色数目\n",
    " \n",
    "如果 `b[i] <= v < b[i+1]`，v被映射到颜色j，其中i从0到len(boundaries)-2，j从0到ncolors-1。\n",
    "\n",
    "超出范围的值低映射到-1，高值映射到ncolors。"
   ]
  },
  {
   "cell_type": "code",
   "execution_count": 7,
   "metadata": {
    "collapsed": false
   },
   "outputs": [
    {
     "name": "stdout",
     "output_type": "stream",
     "text": [
      "<matplotlib.colors.BoundaryNorm object at 0x7ff063d11e50>\n"
     ]
    }
   ],
   "source": [
    "from matplotlib.colors import BoundaryNorm\n",
    "\n",
    "bounds = [-1, -0.5, 0, 0.5, 1]\n",
    "norm1 = BoundaryNorm(boundaries=bounds, ncolors=len(bounds))\n",
    "print norm1"
   ]
  },
  {
   "cell_type": "markdown",
   "metadata": {},
   "source": [
    "### class matplotlib.colors.NoNorm(vmin=None, vmax=None, clip=Fasle)\n",
    "\n",
    "Normalize的假替换，实际没做归一化，用于直接使用ScalarMappable索引。"
   ]
  },
  {
   "cell_type": "code",
   "execution_count": 8,
   "metadata": {
    "collapsed": false
   },
   "outputs": [
    {
     "name": "stdout",
     "output_type": "stream",
     "text": [
      "[-1, -0.5, 0, 0, 5, 1]\n"
     ]
    }
   ],
   "source": [
    "from matplotlib.colors import NoNorm\n",
    "\n",
    "norm = NoNorm()\n",
    "print norm([-1, -0.5, 0, 0,5, 1])"
   ]
  },
  {
   "cell_type": "markdown",
   "metadata": {},
   "source": [
    "### class matplotlib.colors.PowerNorm(gamma, vmin=None, vmax=None, clip=False)\n",
    "\n",
    "幂比例的归一化。\n",
    "\n",
    "### class matplotlib.colors.SymLogNorm(linthresh, linscale=1.0, vmin=None, vmax=None, clip=False)"
   ]
  },
  {
   "cell_type": "markdown",
   "metadata": {},
   "source": [
    "## Step 2：Mapping to color\n",
    "\n",
    "### class matplotlib.colors.Colormap(name, N=256)\n",
    "\n",
    "所有标量到RGBA映射的基类。\n",
    "\n",
    "一般Colormap实例用于将[0,1]区间数据（浮点数）转换为各个Colormap表示的RGBA值。缩放数据到[0,1]区间查阅matplotlib.colors.Normalize。值得注意的是，matplotlib.cm.ScalarMappable子类严重依赖于`data->normalize->map-to-color`处理链。\n",
    "\n",
    "### class matplotlib.colors.LinearSegmentedColormap(name, segmentdata, N=256, gamma=1.0)\n",
    "\n",
    "基于使用线性分段的查询表的colormap对象。\n",
    "\n",
    "查询表使用对每个主要颜色线性插值产生，[0,1]域划分为任意数的分段。\n",
    "\n",
    "从线性映射分段中创建颜色映射\n",
    "\n",
    "segmentdata参数是包含'red','green','blue'条目的字典。每个条目是元组(x,y0,y1)的列表。alpha条目是可选的。\n",
    "\n",
    "例如\n",
    "\n",
    "```\n",
    "cdict = {'red':   [(0.0,  0.0, 0.0),\n",
    "                   (0.5,  1.0, 1.0),\n",
    "                   (1.0,  1.0, 1.0)],\n",
    "\n",
    "         'green': [(0.0,  0.0, 0.0),\n",
    "                   (0.25, 0.0, 0.0),\n",
    "                   (0.75, 1.0, 1.0),\n",
    "                   (1.0,  1.0, 1.0)],\n",
    "\n",
    "         'blue':  [(0.0,  0.0, 0.0),\n",
    "                   (0.5,  0.0, 0.0),\n",
    "                   (1.0,  1.0, 1.0)]}\n",
    "```\n",
    "\n",
    "#### static from_list(name, colors, N=256, gamma=1.0)\n",
    "\n",
    "LinearSegmentedColormap.from_list()静态方法用于产生平滑变化的LinearSegmentedColormap。\n",
    "\n",
    "通过colors序列生成线性分段colormap，从val=0时colors[0]到val=1的colors[-1]均匀过渡。N是rgb量化等级数（个人理解是colorbar分成多少块bins，每个bin颜色一致，bins越多颜色越精细）。另一种方法，(value,color)元组构成的列表给定用来非均匀的划分范围。\n",
    "\n",
    "一般，我们常用from_list方法。"
   ]
  },
  {
   "cell_type": "code",
   "execution_count": 11,
   "metadata": {
    "collapsed": false
   },
   "outputs": [
    {
     "data": {
      "image/png": "[encoded data removed]",
      "text/plain": [
       "<matplotlib.figure.Figure at 0x7ff0846faa50>"
      ]
     },
     "metadata": {},
     "output_type": "display_data"
    },
    {
     "data": {
      "image/png": "[encoded data removed]",
      "text/plain": [
       "<matplotlib.figure.Figure at 0x7ff06007b850>"
      ]
     },
     "metadata": {},
     "output_type": "display_data"
    }
   ],
   "source": [
    "import numpy as np\n",
    "import matplotlib.pyplot as plt\n",
    "from matplotlib.colors import LinearSegmentedColormap\n",
    "\n",
    "\"\"\"\n",
    "Creating a colormap from a list of colors\n",
    "-----------------------------------------\n",
    "Creating a colormap from a list of colors can be done with the `from_list`\n",
    "method of `LinearSegmentedColormap`. You must pass a list of RGB tuples that\n",
    "define the mixture of colors from 0 to 1.\n",
    "\n",
    "\n",
    "Creating custom colormaps\n",
    "-------------------------\n",
    "It is also possible to create a custom mapping for a colormap. This is\n",
    "accomplished by creating dictionary that specifies how the RGB channels\n",
    "change from one end of the cmap to the other.\n",
    "\n",
    "Example: suppose you want red to increase from 0 to 1 over the bottom\n",
    "half, green to do the same over the middle half, and blue over the top\n",
    "half.  Then you would use:\n",
    "\n",
    "cdict = {'red':   ((0.0,  0.0, 0.0),\n",
    "                   (0.5,  1.0, 1.0),\n",
    "                   (1.0,  1.0, 1.0)),\n",
    "\n",
    "         'green': ((0.0,  0.0, 0.0),\n",
    "                   (0.25, 0.0, 0.0),\n",
    "                   (0.75, 1.0, 1.0),\n",
    "                   (1.0,  1.0, 1.0)),\n",
    "\n",
    "         'blue':  ((0.0,  0.0, 0.0),\n",
    "                   (0.5,  0.0, 0.0),\n",
    "                   (1.0,  1.0, 1.0))}\n",
    "\n",
    "If, as in this example, there are no discontinuities in the r, g, and b\n",
    "components, then it is quite simple: the second and third element of\n",
    "each tuple, above, is the same--call it \"y\".  The first element (\"x\")\n",
    "defines interpolation intervals over the full range of 0 to 1, and it\n",
    "must span that whole range.  In other words, the values of x divide the\n",
    "0-to-1 range into a set of segments, and y gives the end-point color\n",
    "values for each segment.\n",
    "\n",
    "Now consider the green. cdict['green'] is saying that for\n",
    "0 <= x <= 0.25, y is zero; no green.\n",
    "0.25 < x <= 0.75, y varies linearly from 0 to 1.\n",
    "x > 0.75, y remains at 1, full green.\n",
    "\n",
    "If there are discontinuities, then it is a little more complicated.\n",
    "Label the 3 elements in each row in the cdict entry for a given color as\n",
    "(x, y0, y1).  Then for values of x between x[i] and x[i+1] the color\n",
    "value is interpolated between y1[i] and y0[i+1].\n",
    "\n",
    "Going back to the cookbook example, look at cdict['red']; because y0 !=\n",
    "y1, it is saying that for x from 0 to 0.5, red increases from 0 to 1,\n",
    "but then it jumps down, so that for x from 0.5 to 1, red increases from\n",
    "0.7 to 1.  Green ramps from 0 to 1 as x goes from 0 to 0.5, then jumps\n",
    "back to 0, and ramps back to 1 as x goes from 0.5 to 1.\n",
    "\n",
    "row i:   x  y0  y1\n",
    "                /\n",
    "               /\n",
    "row i+1: x  y0  y1\n",
    "\n",
    "Above is an attempt to show that for x in the range x[i] to x[i+1], the\n",
    "interpolation is between y1[i] and y0[i+1].  So, y0[0] and y1[-1] are\n",
    "never used.\n",
    "\n",
    "\"\"\"\n",
    "# Make some illustrative fake data:\n",
    "\n",
    "x = np.arange(0, np.pi, 0.1)\n",
    "y = np.arange(0, 2*np.pi, 0.1)\n",
    "X, Y = np.meshgrid(x, y)\n",
    "Z = np.cos(X) * np.sin(Y) * 10\n",
    "\n",
    "\n",
    "# --- Colormaps from a list ---\n",
    "\n",
    "colors = [(1, 0, 0), (0, 1, 0), (0, 0, 1)]  # R -> G -> B ,equal to ['r','g','b']\n",
    "n_bins = [3, 6, 10, 100]  # Discretizes the interpolation into bins\n",
    "cmap_name = 'my_list'\n",
    "fig, axs = plt.subplots(2, 2, figsize=(6, 9))\n",
    "fig.subplots_adjust(left=0.02, bottom=0.06, right=0.95, top=0.94, wspace=0.05)\n",
    "for n_bin, ax in zip(n_bins, axs.ravel()):\n",
    "    # Create the colormap\n",
    "    cm = LinearSegmentedColormap.from_list(\n",
    "        cmap_name, colors, N=n_bin)\n",
    "    # Fewer bins will result in \"coarser\" colomap interpolation\n",
    "    im = ax.imshow(Z, interpolation='nearest', origin='lower', cmap=cm)\n",
    "    ax.set_title(\"N bins: %s\" % n_bin)\n",
    "    fig.colorbar(im, ax=ax)\n",
    "\n",
    "\n",
    "# --- Custom colormaps ---\n",
    "\n",
    "cdict1 = {'red':   ((0.0, 0.0, 0.0),\n",
    "                   (0.5, 0.0, 0.1),\n",
    "                   (1.0, 1.0, 1.0)),\n",
    "\n",
    "         'green': ((0.0, 0.0, 0.0),\n",
    "                   (1.0, 0.0, 0.0)),\n",
    "\n",
    "         'blue':  ((0.0, 0.0, 1.0),\n",
    "                   (0.5, 0.1, 0.0),\n",
    "                   (1.0, 0.0, 0.0))\n",
    "        }\n",
    "\n",
    "cdict2 = {'red':   ((0.0, 0.0, 0.0),\n",
    "                   (0.5, 0.0, 1.0),\n",
    "                   (1.0, 0.1, 1.0)),\n",
    "\n",
    "         'green': ((0.0, 0.0, 0.0),\n",
    "                   (1.0, 0.0, 0.0)),\n",
    "\n",
    "         'blue':  ((0.0, 0.0, 0.1),\n",
    "                   (0.5, 1.0, 0.0),\n",
    "                   (1.0, 0.0, 0.0))\n",
    "        }\n",
    "\n",
    "cdict3 = {'red':  ((0.0, 0.0, 0.0),\n",
    "                   (0.25, 0.0, 0.0),\n",
    "                   (0.5, 0.8, 1.0),\n",
    "                   (0.75, 1.0, 1.0),\n",
    "                   (1.0, 0.4, 1.0)),\n",
    "\n",
    "         'green': ((0.0, 0.0, 0.0),\n",
    "                   (0.25, 0.0, 0.0),\n",
    "                   (0.5, 0.9, 0.9),\n",
    "                   (0.75, 0.0, 0.0),\n",
    "                   (1.0, 0.0, 0.0)),\n",
    "\n",
    "         'blue':  ((0.0, 0.0, 0.4),\n",
    "                   (0.25, 1.0, 1.0),\n",
    "                   (0.5, 1.0, 0.8),\n",
    "                   (0.75, 0.0, 0.0),\n",
    "                   (1.0, 0.0, 0.0))\n",
    "        }\n",
    "\n",
    "# Make a modified version of cdict3 with some transparency\n",
    "# in the middle of the range.\n",
    "cdict4 = cdict3.copy()\n",
    "cdict4['alpha'] = ((0.0, 1.0, 1.0),\n",
    "                #   (0.25,1.0, 1.0),\n",
    "                   (0.5, 0.3, 0.3),\n",
    "                #   (0.75,1.0, 1.0),\n",
    "                   (1.0, 1.0, 1.0))\n",
    "\n",
    "\n",
    "# Now we will use this example to illustrate 3 ways of\n",
    "# handling custom colormaps.\n",
    "# First, the most direct and explicit:\n",
    "\n",
    "blue_red1 = LinearSegmentedColormap('BlueRed1', cdict1)\n",
    "\n",
    "# Second, create the map explicitly and register it.\n",
    "# Like the first method, this method works with any kind\n",
    "# of Colormap, not just\n",
    "# a LinearSegmentedColormap:\n",
    "\n",
    "blue_red2 = LinearSegmentedColormap('BlueRed2', cdict2)\n",
    "plt.register_cmap(cmap=blue_red2)\n",
    "\n",
    "# Third, for LinearSegmentedColormap only,\n",
    "# leave everything to register_cmap:\n",
    "\n",
    "plt.register_cmap(name='BlueRed3', data=cdict3)  # optional lut kwarg\n",
    "plt.register_cmap(name='BlueRedAlpha', data=cdict4)\n",
    "\n",
    "# Make the figure:\n",
    "\n",
    "fig, axs = plt.subplots(2, 2, figsize=(6, 9))\n",
    "fig.subplots_adjust(left=0.02, bottom=0.06, right=0.95, top=0.94, wspace=0.05)\n",
    "\n",
    "# Make 4 subplots:\n",
    "\n",
    "im1 = axs[0, 0].imshow(Z, interpolation='nearest', cmap=blue_red1)\n",
    "fig.colorbar(im1, ax=axs[0, 0])\n",
    "\n",
    "cmap = plt.get_cmap('BlueRed2')\n",
    "im2 = axs[1, 0].imshow(Z, interpolation='nearest', cmap=cmap)\n",
    "fig.colorbar(im2, ax=axs[1, 0])\n",
    "\n",
    "# Now we will set the third cmap as the default.  One would\n",
    "# not normally do this in the middle of a script like this;\n",
    "# it is done here just to illustrate the method.\n",
    "\n",
    "plt.rcParams['image.cmap'] = 'BlueRed3'\n",
    "\n",
    "im3 = axs[0, 1].imshow(Z, interpolation='nearest')\n",
    "fig.colorbar(im3, ax=axs[0, 1])\n",
    "axs[0, 1].set_title(\"Alpha = 1\")\n",
    "\n",
    "# Or as yet another variation, we can replace the rcParams\n",
    "# specification *before* the imshow with the following *after*\n",
    "# imshow.\n",
    "# This sets the new default *and* sets the colormap of the last\n",
    "# image-like item plotted via pyplot, if any.\n",
    "#\n",
    "\n",
    "# Draw a line with low zorder so it will be behind the image.\n",
    "axs[1, 1].plot([0, 10*np.pi], [0, 20*np.pi], color='c', lw=20, zorder=-1)\n",
    "\n",
    "im4 = axs[1, 1].imshow(Z, interpolation='nearest')\n",
    "fig.colorbar(im4, ax=axs[1, 1])\n",
    "\n",
    "# Here it is: changing the colormap for the current image and its\n",
    "# colorbar after they have been plotted.\n",
    "im4.set_cmap('BlueRedAlpha')\n",
    "axs[1, 1].set_title(\"Varying alpha\")\n",
    "#\n",
    "\n",
    "fig.suptitle('Custom Blue-Red colormaps', fontsize=16)\n",
    "\n",
    "plt.show()"
   ]
  },
  {
   "cell_type": "code",
   "execution_count": 9,
   "metadata": {
    "collapsed": false
   },
   "outputs": [
    {
     "data": {
      "text/plain": [
       "<matplotlib.colorbar.Colorbar at 0x7ff0605df050>"
      ]
     },
     "execution_count": 9,
     "metadata": {},
     "output_type": "execute_result"
    },
    {
     "data": {
      "image/png": "[encoded data removed]",
      "text/plain": [
       "<matplotlib.figure.Figure at 0x7ff063a5e710>"
      ]
     },
     "metadata": {},
     "output_type": "display_data"
    }
   ],
   "source": [
    "#修改内置colormap满足定制要求\n",
    "import numpy as np\n",
    "import matplotlib.pyplot as plt\n",
    "import matplotlib as mpl\n",
    "import matplotlib.cm as cm\n",
    "jetcmap = cm.get_cmap(\"jet\", 10) #generate a jet map with 10 values\n",
    "jet_vals = jetcmap(np.arange(10)) #extract those values as an array\n",
    "jet_vals[0] = [0.1, 0, 0.1, 1] #change the first value for example\n",
    "newcmap = mpl.colors.LinearSegmentedColormap.from_list(\"newjet\", jet_vals)\n",
    "plt.imshow(np.random.rand(18,20), cmap=newcmap, vmin=0, vmax=1, interpolation=\"nearest\")\n",
    "plt.colorbar()"
   ]
  },
  {
   "cell_type": "markdown",
   "metadata": {},
   "source": [
    "### class matplotlib.colors.ListedColormap(colors, name='from_list', N=None)\n",
    "\n",
    "用于从colors列表产生colormap对象。\n",
    "\n",
    "常用于索引直接映射colormap，不过也可以用于普通映射产生特殊colormap。\n",
    "\n",
    "感觉和上面的LinearSegmentedColormap.from_list()功能相同。\n",
    "\n",
    " * colors ： matplotlib颜色说明的列表，或等价的Nx3或Nx4浮点数组（N rgb或rgba值）\n",
    " * name   : colormap名称，字符串\n",
    " * N      : 映射中条目数。"
   ]
  },
  {
   "cell_type": "markdown",
   "metadata": {},
   "source": [
    "## 工具函数\n",
    "\n",
    "### matplotlib.colors.is_color_like(c)\n",
    "\n",
    "返回c是否可以被解释为一种RGB(A)颜色。\n",
    "\n",
    "### matplotlib.colors.to_hex(c, keep_alpha=False)\n",
    "\n",
    "转换c为hex形式的颜色。\n",
    "\n",
    "如果keep_alpha为False（缺省），使用#rrggbb格式，否则#rrggbbaa格式。\n",
    "\n",
    "### matplotlib.colors.to_rgba(c, alpha=None)\n",
    "\n",
    "转换c为RGBA颜色。\n",
    "\n",
    "### matplotlib.colors.to_rgba_array(c, alpha=None)\n",
    "\n",
    "转换c为RGBA颜色的(n,4)数组\n",
    "\n"
   ]
  },
  {
   "cell_type": "markdown",
   "metadata": {},
   "source": [
    "---\n",
    "\n",
    "# matplotlib.cm\n",
    "\n",
    "内置colormaps、colormap处理工具和ScalarMappable混合类。\n",
    "\n",
    "### class matplotlib.cm.ScalarMappable(norm=None, cmap=None)\n",
    "\n",
    "暂不做讨论"
   ]
  },
  {
   "cell_type": "markdown",
   "metadata": {},
   "source": [
    "### matplotlib.cm.get_cmap(name=None, lut=None)\n",
    "\n",
    "获得一个colormap实例，如果name是None，缺省是rc值。\n",
    "\n",
    "register_cmap()注册的colormap优先级高于内置colormaps。\n",
    "\n",
    "如果name是一个matplotlib.colors.Colormap实例，返回它。\n",
    "\n",
    "如果lut不是None，必须是一个整数，给定查询表想要的条目数，name必须是标准的mpl colormap名称。"
   ]
  },
  {
   "cell_type": "markdown",
   "metadata": {},
   "source": [
    "### matplotlib.cm.register_cmap(name=None, cmap=None, data=None, lut=None)\n",
    "\n",
    "加入一个colormap到get_cmap()能识别的集合中。\n",
    "\n",
    "两种使用方式：\n",
    "\n",
    "```\n",
    "register_cmap(name='swirly', cmap=swirly_cmap)\n",
    "\n",
    "register_cmap(name='choppy', data=choppydata, lut=128)\n",
    "```"
   ]
  },
  {
   "cell_type": "code",
   "execution_count": null,
   "metadata": {
    "collapsed": true
   },
   "outputs": [],
   "source": []
  }
 ],
 "metadata": {
  "kernelspec": {
   "display_name": "Python [conda env:anaconda2]",
   "language": "python",
   "name": "conda-env-anaconda2-py"
  },
  "language_info": {
   "codemirror_mode": {
    "name": "ipython",
    "version": 2
   },
   "file_extension": ".py",
   "mimetype": "text/x-python",
   "name": "python",
   "nbconvert_exporter": "python",
   "pygments_lexer": "ipython2",
   "version": "2.7.13"
  }
 },
 "nbformat": 4,
 "nbformat_minor": 2
}
