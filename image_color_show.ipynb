{
 "cells": [
  {
   "cell_type": "markdown",
   "metadata": {},
   "source": [
    "# imshow .vs. pcolor .vs. pcolormesh\n",
    "\n",
    "## matplotlib.pyplot.imshow\n",
    "\n",
    "matplotlib.pyplot.imshow(X, cmap=None, norm=None, aspect=None, interpolation=None, alpha=None, vmin=None,vmax=None, origin=None,extent=None, shape=None,filternorm=1,filterrad=4.0, imlim=None,resample=None, url=None, hold=None, data=None, **kwargs)\n",
    "\n",
    "显示图像\n",
    "\n",
    " * X: array_like,shape(n,m)or (n,m,3) or (n,m,4)。需要显示的数组X。x可能是一个数组或PIL图像。\n",
    "  * MxN 基于norm和cmap映射到颜色的数组，[0,1]浮点数或者[0,255]整数，超出范围将根据边界截断\n",
    "  * MxNx3 RGB（float or uint8)\n",
    "  * MxNx4 RGBA(float or uint8)\n",
    " \n",
    " * cmap： colormap,如果None，缺省使用rc的image.cmap值。如果x是3维，cmap被忽略。\n",
    " * norm: Normalize实例，如果None，使用缺省函数normalize。如果norm是NoNorm实例，x必须是可以直接索引cmap查询表的整数数组。\n",
    " * vmin,vmax: vmin和vmax用于和norm一起归一化亮度数据。注意如果传递一个norm实例，vmin和vmax设置被忽略。\n",
    " * interpolation: 可接受值是'none','neareset','bilnear'...。如果None，缺省是rc image.interpolation.\n",
    " * origin: ['upper'|'lower']，数组[0,0]索引位置是左上角还是左下角。如果None，缺省rc image.origin\n",
    " * extent: scalars(left,right,bottom,top)，数据坐标中左下角和右上角的位置。除非extent使用，像素中心定位在整数坐标上。换句话说，origin与像素(0,0)中心一致。\n",
    " "
   ]
  },
  {
   "cell_type": "code",
   "execution_count": 12,
   "metadata": {
    "collapsed": false
   },
   "outputs": [
    {
     "name": "stdout",
     "output_type": "stream",
     "text": [
      "[[ 0.93795312  0.24664205  0.29071132]\n",
      " [ 0.35882472  0.82112224  0.46759278]\n",
      " [ 0.4927038   0.28782148  0.0369229 ]]\n"
     ]
    },
    {
     "data": {
      "image/png": "[encoded data removed]",
      "text/plain": [
       "<matplotlib.figure.Figure at 0x7fd9c4bd3fd0>"
      ]
     },
     "metadata": {},
     "output_type": "display_data"
    }
   ],
   "source": [
    "import numpy as np\n",
    "import matplotlib.pyplot as plt\n",
    "\n",
    "data = np.random.rand(3,3)\n",
    "print data\n",
    "plt.figure(1)\n",
    "plt.subplot(121)\n",
    "plt.imshow(data, interpolation='none')\n",
    "plt.subplot(122)\n",
    "plt.imshow(data, interpolation='none', origin='lower')\n",
    "plt.show()"
   ]
  },
  {
   "cell_type": "markdown",
   "metadata": {},
   "source": [
    "imshow遵从图像处理领域约定：origin原点在左上角。我们可以通过origin参数修改这一设置。像素中心在0,1,2位置上。"
   ]
  },
  {
   "cell_type": "markdown",
   "metadata": {},
   "source": [
    "## matplotlib.pyplot.pcolor\n",
    "\n",
    "创建2维数组的伪颜色图。\n",
    "\n",
    "调用方式：\n",
    "\n",
    "```\n",
    "pcolor(C, **kwargs)\n",
    "pcolor(X, Y, C, **kwargs)\n",
    "```\n",
    "\n",
    "pcolor对于大数组非常慢，考虑使用类似但更快的pcolormesh()。\n",
    "\n",
    " * C: 颜色值的数组\n",
    " * X,Y: 如果给定X，Y，指定颜色四边形的(x,y)坐标。对于C[i,j]四个角是\n",
    " \n",
    " ```\n",
    "     (X[i,   j], Y[i,   j])\n",
    "     (X[i,   j+1], Y[i, j+1])\n",
    "     (X[i+1, j], Y[i+1, j])\n",
    "     (X[i+1, j+1], Y[i+1, j+1])\n",
    " ```\n",
    " \n",
    " 理想情况下，X和Y的维数应该比C维数多1，如果维数大小相同，C的最后一行和列被忽略。\n",
    " \n",
    " 注意网格方向遵循Matlab约定：形如(nrows, ncolumns)的C绘图列索引对应x坐标，行索引对应y。即c被当作c(y,x)。\n",
    " \n",
    " 如果x和y是一维数组，会被扩展维2维数组，形成矩形网格。\n",
    " \n",
    " * cmap\n",
    " * norm\n",
    " * vmin,vmax\n",
    " * edgecolors\n",
    " * alpha\n",
    " * snap\n",
    " * ...\n",
    " "
   ]
  },
  {
   "cell_type": "code",
   "execution_count": 20,
   "metadata": {
    "collapsed": false
   },
   "outputs": [
    {
     "name": "stdout",
     "output_type": "stream",
     "text": [
      "[[ 0.19334327  0.29688731  0.25044187]\n",
      " [ 0.48340411  0.31526496  0.06820453]\n",
      " [ 0.20009127  0.62563268  0.02377064]\n",
      " [ 0.23136938  0.86986456  0.23762708]\n",
      " [ 0.91828837  0.58259801  0.39592285]]\n"
     ]
    },
    {
     "data": {
      "image/png": "[encoded data removed]",
      "text/plain": [
       "<matplotlib.figure.Figure at 0x7fd9c43c71d0>"
      ]
     },
     "metadata": {},
     "output_type": "display_data"
    }
   ],
   "source": [
    "import numpy as np\n",
    "import matplotlib.pyplot as plt\n",
    "\n",
    "data = np.random.rand(5,3)\n",
    "print data\n",
    "plt.figure(figsize=(12,9))\n",
    "plt.subplot(311)\n",
    "plt.imshow(data, interpolation='none')\n",
    "plt.subplot(312)\n",
    "plt.pcolor(data)\n",
    "plt.subplot(313)\n",
    "plt.pcolor(np.flipud(data)) #flipud 矩阵的上下翻转\n",
    "plt.show()"
   ]
  },
  {
   "cell_type": "markdown",
   "metadata": {},
   "source": [
    "从上图对比可以看出，imshow与pcolor的区别：\n",
    "\n",
    "1. imshow缺省原点是左上角，而pcolor是左下角\n",
    "2. imshow每个data点用正方形表示，而pcolor是用矩形表示\n",
    "3. imshow像素位置在0,1,2坐标上，而pcolor像素位置在整数坐标之间"
   ]
  },
  {
   "cell_type": "markdown",
   "metadata": {},
   "source": [
    "### Masked Array\n",
    "\n",
    "X,Y和C可以是掩码数组。如果C[i,j]或者围绕C[i,j]的顶点（[i,j],[i+1,j],[i,j+1],[i+1,j+1]）中的一个是掩码，就不画。"
   ]
  },
  {
   "cell_type": "code",
   "execution_count": 22,
   "metadata": {
    "collapsed": false
   },
   "outputs": [
    {
     "name": "stdout",
     "output_type": "stream",
     "text": [
      "[[-- -- 0.7317065644560823 -- -- -- 0.9714859539404902 --]\n",
      " [0.775627636363634 -- -- 0.7843151083795495 -- 0.6854482831153219 -- --]\n",
      " [0.8929501279549888 -- 0.76391176286579 -- -- -- 0.8207620174273272 --]\n",
      " [-- -- 0.7541026465326369 -- -- -- -- --]\n",
      " [-- -- -- -- 0.9307503073575137 -- -- 0.834253103474704]\n",
      " [-- 0.7749494821148051 0.9700884730287692 -- -- 0.606629112934492\n",
      "  0.8689586412049763 0.6622251257869413]\n",
      " [-- -- 0.8294100210464639 0.934454718554899 0.9820487720899626\n",
      "  0.6093233914174445 -- 0.571897349253165]\n",
      " [-- 0.6119316395641637 -- -- -- 0.5898236420914262 0.793736340972867\n",
      "  0.8369173182750724]]\n"
     ]
    },
    {
     "data": {
      "image/png": "[encoded data removed]",
      "text/plain": [
       "<matplotlib.figure.Figure at 0x7fd9c48e6190>"
      ]
     },
     "metadata": {},
     "output_type": "display_data"
    }
   ],
   "source": [
    "import numpy as np\n",
    "import numpy.ma as ma\n",
    "import matplotlib.pyplot as plt\n",
    "\n",
    "data = np.random.rand(8,8)\n",
    "data_ma = ma.masked_where(data<0.5, data)\n",
    "print data_ma\n",
    "\n",
    "plt.pcolor(data_ma) \n",
    "plt.show()"
   ]
  },
  {
   "cell_type": "markdown",
   "metadata": {},
   "source": [
    "## matplotlib.pyplot.pcolormesh\n",
    "\n",
    "类似pcolor(),创建2维数组的伪颜色图。两者区别在于返回对象不同，pcolor返回PolyCollection，而pcolormesh返回QuadMesh，速度更快。\n",
    "\n",
    "调用方式：\n",
    "\n",
    "```\n",
    "pcolormesh(C)\n",
    "pcolormesh(X, Y, C)\n",
    "pcolormesh(C, **kwargs)\n",
    "```\n",
    "\n",
    "C可以是masked数组，但X和Y不可以。masked数组支持实现通过cmap和norm，而pcolor仅仅是不能画掩码颜色的四边形。\n",
    " "
   ]
  },
  {
   "cell_type": "code",
   "execution_count": null,
   "metadata": {
    "collapsed": true
   },
   "outputs": [],
   "source": []
  }
 ],
 "metadata": {
  "kernelspec": {
   "display_name": "Python [conda env:anaconda2]",
   "language": "python",
   "name": "conda-env-anaconda2-py"
  },
  "language_info": {
   "codemirror_mode": {
    "name": "ipython",
    "version": 2
   },
   "file_extension": ".py",
   "mimetype": "text/x-python",
   "name": "python",
   "nbconvert_exporter": "python",
   "pygments_lexer": "ipython2",
   "version": "2.7.13"
  }
 },
 "nbformat": 4,
 "nbformat_minor": 2
}
